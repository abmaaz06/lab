{
 "cells": [
  {
   "cell_type": "markdown",
   "id": "bde29ba4-115c-4660-bea4-054ca8061f77",
   "metadata": {},
   "source": [
    "# Data Science Tools and Ecosystem"
   ]
  },
  {
   "cell_type": "markdown",
   "id": "9d3638bd-09bc-4f4f-9513-862dedb84d40",
   "metadata": {},
   "source": [
    "The data science ecosystem comprises a wide range of tools and technologies that help professionals gather, analyze, visualize, and derive insights from data. This ecosystem includes tools for data acquisition, cleaning, exploration, analysis, modeling, visualization, and more"
   ]
  },
  {
   "cell_type": "markdown",
   "id": "a738ad21-6ed3-4399-a7a2-483264c7ba3c",
   "metadata": {},
   "source": [
    "Some of the popular languages that Data Scientists use are:\n",
    "1. R \n",
    "1. SQL\n",
    "1. Java"
   ]
  },
  {
   "cell_type": "markdown",
   "id": "7910703e-cc43-4bfb-9a73-0396efe689e1",
   "metadata": {},
   "source": [
    "Some of the commonly used Libraries used by Data Scientists include:\n",
    "1. pandas\n",
    "1. numpy\n",
    "1. keras\n"
   ]
  },
  {
   "cell_type": "markdown",
   "id": "bf8667c8-3e08-4fbb-af98-c7b79926c423",
   "metadata": {},
   "source": [
    "|Data Science Tools|\n",
    "|------------------|\n",
    "|Jupyter Notebooks|\n",
    "|SQL|\n",
    "|Dockers|\n"
   ]
  },
  {
   "cell_type": "markdown",
   "id": "686b3887-7155-490a-bb0a-a1d9fa38b5bc",
   "metadata": {},
   "source": [
    "Below are a few examples of evaluating arithmetic operations:"
   ]
  },
  {
   "cell_type": "code",
   "execution_count": 1,
   "id": "78250a17-89b9-4d97-8603-9314ee0d45f7",
   "metadata": {
    "tags": []
   },
   "outputs": [
    {
     "data": {
      "text/plain": [
       "17"
      ]
     },
     "execution_count": 1,
     "metadata": {},
     "output_type": "execute_result"
    }
   ],
   "source": [
    "(3*4)+5"
   ]
  },
  {
   "cell_type": "code",
   "execution_count": 8,
   "id": "9fd265e5-2ee1-4af5-aa78-4256a8ab2e47",
   "metadata": {
    "tags": []
   },
   "outputs": [
    {
     "data": {
      "text/plain": [
       "3.3333333333333335"
      ]
     },
     "execution_count": 8,
     "metadata": {},
     "output_type": "execute_result"
    }
   ],
   "source": [
    "min = 200\n",
    "hours = min / 60\n",
    "hours\n"
   ]
  },
  {
   "cell_type": "markdown",
   "id": "ae24662c-51d8-48ac-b6be-0f96921e5a2d",
   "metadata": {
    "tags": []
   },
   "source": [
    "# Objectives\n",
    "* what is data Science Tools and Ecosystem\n",
    "* important Languages \n",
    "* Important Libraries\n",
    "* Evaluating arithmetic operation in Python\n",
    "\n"
   ]
  },
  {
   "cell_type": "markdown",
   "id": "451476aa-fad7-4a4a-a27a-415fbe6e00be",
   "metadata": {
    "tags": []
   },
   "source": [
    "## Author\n",
    "Abdullah Maaz"
   ]
  },
  {
   "cell_type": "code",
   "execution_count": null,
   "id": "0f62e24d-5191-4e0a-a3d8-7e06ce3a74ca",
   "metadata": {},
   "outputs": [],
   "source": []
  }
 ],
 "metadata": {
  "kernelspec": {
   "display_name": "Python",
   "language": "python",
   "name": "conda-env-python-py"
  },
  "language_info": {
   "codemirror_mode": {
    "name": "ipython",
    "version": 3
   },
   "file_extension": ".py",
   "mimetype": "text/x-python",
   "name": "python",
   "nbconvert_exporter": "python",
   "pygments_lexer": "ipython3",
   "version": "3.7.12"
  }
 },
 "nbformat": 4,
 "nbformat_minor": 5
}
